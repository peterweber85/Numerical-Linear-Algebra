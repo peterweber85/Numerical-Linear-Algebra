{
 "cells": [
  {
   "cell_type": "code",
   "execution_count": 1,
   "metadata": {},
   "outputs": [
    {
     "data": {
      "text/plain": [
       "<module 'Project1_PeterWeber' from '/Users/peterweber/Dropbox/DataScienceMasterUB/NumerialLinearAlgebra/Project1/Project1_PeterWeber.py'>"
      ]
     },
     "execution_count": 1,
     "metadata": {},
     "output_type": "execute_result"
    }
   ],
   "source": [
    "import numpy as np\n",
    "import matplotlib.pyplot as plt\n",
    "import math\n",
    "from timeit import default_timer as timer\n",
    "from scipy import linalg\n",
    "from scipy.sparse import *\n",
    "%matplotlib inline \n",
    "\n",
    "import Project1_PeterWeber as lib\n",
    "import importlib\n",
    "importlib.reload(lib)"
   ]
  },
  {
   "cell_type": "markdown",
   "metadata": {},
   "source": [
    "## C2"
   ]
  },
  {
   "cell_type": "code",
   "execution_count": 29,
   "metadata": {},
   "outputs": [
    {
     "name": "stdout",
     "output_type": "stream",
     "text": [
      "iteration:  0\n",
      "r_L:  6.55832124565\n",
      "r_C:  81.8193605018\n",
      "mu:  1.0 \n",
      "\n",
      "iteration:  1\n",
      "r_L:  0.327916062283\n",
      "r_C:  4.09096802509\n",
      "mu:  125.890464034 \n",
      "\n",
      "iteration:  2\n",
      "r_L:  0.0529439269574\n",
      "r_C:  0.66051022569\n",
      "mu:  537.043977563 \n",
      "\n",
      "iteration:  3\n",
      "r_L:  0.00264719634787\n",
      "r_C:  0.0330255112845\n",
      "mu:  90.1782918262 \n",
      "\n",
      "iteration:  4\n",
      "r_L:  0.000373460590254\n",
      "r_C:  0.00465916589363\n",
      "mu:  37.3513424602 \n",
      "\n",
      "iteration:  5\n",
      "r_L:  2.01788661431e-05\n",
      "r_C:  0.000251744594637\n",
      "mu:  5.52839546082 \n",
      "\n",
      "iteration:  6\n",
      "r_L:  1.01908210229e-06\n",
      "r_C:  1.27137178541e-05\n",
      "mu:  0.343129819765 \n",
      "\n",
      "iteration:  7\n",
      "r_L:  5.09563757076e-08\n",
      "r_C:  6.35714220481e-07\n",
      "mu:  0.0173870934508 \n",
      "\n",
      "iteration:  8\n",
      "r_L:  2.5478191084e-09\n",
      "r_C:  3.17857144217e-08\n",
      "mu:  0.000869212362762 \n",
      "\n",
      "iteration:  9\n",
      "r_L:  1.27391066362e-10\n",
      "r_C:  1.58928520615e-09\n",
      "mu:  4.34601155657e-05 \n",
      "\n",
      "iteration:  10\n",
      "r_L:  6.36953393461e-12\n",
      "r_C:  7.9463950215e-11\n",
      "mu:  2.17300450322e-06 \n",
      "\n",
      "iteration:  11\n",
      "r_L:  3.18526003327e-13\n",
      "r_C:  3.97417942403e-12\n",
      "mu:  1.08650221971e-07 \n",
      "\n",
      "iteration:  12\n",
      "r_L:  1.60922666757e-14\n",
      "r_C:  1.98906362341e-13\n",
      "mu:  5.43251109057e-09 \n",
      "\n",
      "iteration:  13\n",
      "r_L:  1.04187282525e-15\n",
      "r_C:  1.51771994889e-14\n",
      "mu:  2.71625554509e-10 \n",
      "\n",
      "iteration:  14\n",
      "r_L:  5.62110014511e-16\n",
      "r_C:  1.05465343898e-14\n",
      "mu:  1.35812777254e-11 \n",
      "\n",
      "iteration:  15\n",
      "r_L:  3.2523104592e-16\n",
      "r_C:  1.31137972128e-14\n",
      "mu:  6.79063886269e-13 \n",
      "\n",
      "iteration:  16\n",
      "r_L:  1.91952812287e-16\n",
      "r_C:  6.28036983474e-15\n",
      "mu:  3.39531943135e-14 \n",
      "\n",
      "iteration:  17\n",
      "r_L:  1.43189058275e-16\n",
      "r_C:  2.17558392882e-15\n",
      "mu:  1.69765971567e-15 \n",
      "\n",
      "iteration:  18\n",
      "r_L:  7.15945291376e-18\n",
      "r_C:  0.0\n",
      "mu:  8.48829857836e-17 \n",
      "\n",
      "Convergence after  18  iterations!!!\n",
      "The condition number of the matrix is:  24.5752\n",
      "Error between x and g in last iteration (C2): E = x + g =  0.0\n"
     ]
    }
   ],
   "source": [
    "error = lib.solve_inequality_constraints_case(\n",
    "            lib.get_new_z, lib.get_M_kkt, n_ = 100, p_ = 0, m_ = 200, \n",
    "            iter_max_ = 100, eps_ = 1e-16, print_iter_ = True,\n",
    "            print_conv_ = True)\n",
    "    \n",
    "print(\"Error between x and g in last iteration (C2): E = x + g = \", error)"
   ]
  },
  {
   "cell_type": "markdown",
   "metadata": {},
   "source": [
    "### C3"
   ]
  },
  {
   "cell_type": "code",
   "execution_count": 17,
   "metadata": {},
   "outputs": [
    {
     "name": "stdout",
     "output_type": "stream",
     "text": [
      "task number:  C3 \n",
      "\n",
      "Matrix size:  50\n",
      "Convergence after  16  iterations!!!\n",
      "The condition number of the matrix is:  25.439\n",
      "The algorithm needed  0.0378  s to converge\n",
      "Error between x and g in last iteration: E = x + g =  3.33066907388e-16 \n",
      "\n",
      "Matrix size:  100\n",
      "Convergence after  18  iterations!!!\n",
      "The condition number of the matrix is:  24.2002\n",
      "The algorithm needed  0.2021  s to converge\n",
      "Error between x and g in last iteration: E = x + g =  0.0 \n",
      "\n",
      "Matrix size:  150\n",
      "Convergence after  16  iterations!!!\n",
      "The condition number of the matrix is:  25.5105\n",
      "The algorithm needed  1.228  s to converge\n",
      "Error between x and g in last iteration: E = x + g =  -2.99760216649e-15 \n",
      "\n",
      "Matrix size:  200\n",
      "Convergence after  17  iterations!!!\n",
      "The condition number of the matrix is:  25.3313\n",
      "The algorithm needed  1.3579  s to converge\n",
      "Error between x and g in last iteration: E = x + g =  0.0 \n",
      "\n",
      "Matrix size:  250\n",
      "Convergence after  17  iterations!!!\n",
      "The condition number of the matrix is:  26.0102\n",
      "The algorithm needed  2.6559  s to converge\n",
      "Error between x and g in last iteration: E = x + g =  4.4408920985e-16 \n",
      "\n",
      "Matrix size:  300\n",
      "Convergence after  17  iterations!!!\n",
      "The condition number of the matrix is:  25.6017\n",
      "The algorithm needed  6.5324  s to converge\n",
      "Error between x and g in last iteration: E = x + g =  0.0 \n",
      "\n"
     ]
    }
   ],
   "source": [
    "n_max = 300 \n",
    "elapsed_time_c3 = lib.execute_task(n_max_ = n_max, modulo_print_ = 50,\n",
    "                                   task_ = \"C3\")"
   ]
  },
  {
   "cell_type": "code",
   "execution_count": 21,
   "metadata": {},
   "outputs": [
    {
     "data": {
      "image/png": "[encoded data removed]",
      "text/plain": [
       "<matplotlib.figure.Figure at 0x1179e50f0>"
      ]
     },
     "metadata": {},
     "output_type": "display_data"
    }
   ],
   "source": [
    "lib.plot_elapsed_time(elapsed_time_c3, 0.00000012, n_max)\n",
    "#plt.savefig('./screenshots/C3_2.png')"
   ]
  },
  {
   "cell_type": "markdown",
   "metadata": {
    "collapsed": true
   },
   "source": [
    "# C4 strategy 1"
   ]
  },
  {
   "cell_type": "code",
   "execution_count": 7,
   "metadata": {},
   "outputs": [
    {
     "name": "stdout",
     "output_type": "stream",
     "text": [
      "task number:  C4 strategy 1 \n",
      "\n",
      "Matrix size:  20\n",
      "Convergence after  15  iterations!!!\n",
      "The condition number of the matrix is:  1.477241203e+18\n",
      "The algorithm needed  0.1565  s to converge\n",
      "Error between x and g in last iteration: E = x + g =  1.54876111935e-14 \n",
      "\n",
      "Matrix size:  40\n",
      "Convergence after  17  iterations!!!\n",
      "The condition number of the matrix is:  8.23384524878e+20\n",
      "The algorithm needed  0.7295  s to converge\n",
      "Error between x and g in last iteration: E = x + g =  0.0 \n",
      "\n",
      "Matrix size:  60\n",
      "Convergence after  16  iterations!!!\n",
      "The condition number of the matrix is:  2.28903453772e+19\n",
      "The algorithm needed  1.9547  s to converge\n",
      "Error between x and g in last iteration: E = x + g =  0.0 \n",
      "\n",
      "Matrix size:  80\n",
      "Convergence after  17  iterations!!!\n",
      "The condition number of the matrix is:  9.04967424315e+18\n",
      "The algorithm needed  4.486  s to converge\n",
      "Error between x and g in last iteration: E = x + g =  1.7763568394e-15 \n",
      "\n",
      "Matrix size:  100\n",
      "Convergence after  18  iterations!!!\n",
      "The condition number of the matrix is:  1.52776856303e+20\n",
      "The algorithm needed  6.4346  s to converge\n",
      "Error between x and g in last iteration: E = x + g =  0.0 \n",
      "\n",
      "Matrix size:  120\n",
      "Convergence after  17  iterations!!!\n",
      "The condition number of the matrix is:  2.25810419355e+20\n",
      "The algorithm needed  8.0576  s to converge\n",
      "Error between x and g in last iteration: E = x + g =  0.0 \n",
      "\n"
     ]
    }
   ],
   "source": [
    "n_max = 120 \n",
    "elapsed_time_c4_s1 = lib.execute_task(n_max_ = n_max, modulo_print_ = 20,\n",
    "                                      task_ = \"C4 strategy 1\")"
   ]
  },
  {
   "cell_type": "code",
   "execution_count": 12,
   "metadata": {},
   "outputs": [
    {
     "data": {
      "image/png": "[encoded data removed]",
      "text/plain": [
       "<matplotlib.figure.Figure at 0x11798dbe0>"
      ]
     },
     "metadata": {},
     "output_type": "display_data"
    }
   ],
   "source": [
    "lib.plot_elapsed_time(elapsed_time_c4_s1, 0.000004, n_max)\n",
    "#plt.savefig('./screenshots/C4_1.png')"
   ]
  },
  {
   "cell_type": "markdown",
   "metadata": {},
   "source": [
    "# C4 strategy 2"
   ]
  },
  {
   "cell_type": "code",
   "execution_count": 13,
   "metadata": {},
   "outputs": [
    {
     "name": "stdout",
     "output_type": "stream",
     "text": [
      "task number:  C4 strategy 2 \n",
      "\n",
      "Matrix size:  50\n",
      "Convergence after  15  iterations!!!\n",
      "The condition number of the matrix is:  1.0\n",
      "The algorithm needed  0.0443  s to converge\n",
      "Error between x and g in last iteration: E = x + g =  -5.50774703623e-17 \n",
      "\n",
      "Matrix size:  100\n",
      "Convergence after  15  iterations!!!\n",
      "The condition number of the matrix is:  1.0\n",
      "The algorithm needed  0.1816  s to converge\n",
      "Error between x and g in last iteration: E = x + g =  -5.50774703623e-16 \n",
      "\n",
      "Matrix size:  150\n",
      "Convergence after  15  iterations!!!\n",
      "The condition number of the matrix is:  1.0\n",
      "The algorithm needed  0.5378  s to converge\n",
      "Error between x and g in last iteration: E = x + g =  1.41379963292e-15 \n",
      "\n",
      "Matrix size:  200\n",
      "Convergence after  15  iterations!!!\n",
      "The condition number of the matrix is:  1.0\n",
      "The algorithm needed  1.0433  s to converge\n",
      "Error between x and g in last iteration: E = x + g =  -9.73125659914e-16 \n",
      "\n",
      "Matrix size:  250\n",
      "Convergence after  15  iterations!!!\n",
      "The condition number of the matrix is:  1.0\n",
      "The algorithm needed  2.0163  s to converge\n",
      "Error between x and g in last iteration: E = x + g =  9.18319240095e-17 \n",
      "\n",
      "Matrix size:  300\n",
      "Convergence after  15  iterations!!!\n",
      "The condition number of the matrix is:  1.0\n",
      "The algorithm needed  3.7067  s to converge\n",
      "Error between x and g in last iteration: E = x + g =  9.80118763927e-16 \n",
      "\n",
      "Matrix size:  350\n",
      "Convergence after  15  iterations!!!\n",
      "The condition number of the matrix is:  1.0\n",
      "The algorithm needed  5.5447  s to converge\n",
      "Error between x and g in last iteration: E = x + g =  -3.94649590785e-15 \n",
      "\n",
      "Matrix size:  400\n",
      "Convergence after  15  iterations!!!\n",
      "The condition number of the matrix is:  1.0\n",
      "The algorithm needed  7.4143  s to converge\n",
      "Error between x and g in last iteration: E = x + g =  6.89623054842e-15 \n",
      "\n"
     ]
    }
   ],
   "source": [
    "n_max = 400\n",
    "elapsed_time_c4_s2 = lib.execute_task(n_max_ = n_max, modulo_print_ = 50,\n",
    "                                      task_ = \"C4 strategy 2\")"
   ]
  },
  {
   "cell_type": "code",
   "execution_count": 15,
   "metadata": {},
   "outputs": [
    {
     "data": {
      "image/png": "[encoded data removed]",
      "text/plain": [
       "<matplotlib.figure.Figure at 0x11771b9e8>"
      ]
     },
     "metadata": {},
     "output_type": "display_data"
    }
   ],
   "source": [
    "lib.plot_elapsed_time(elapsed_time_c4_s2, 0.00000014, n_max)\n",
    "plt.savefig('./screenshots/C4_2.png')"
   ]
  },
  {
   "cell_type": "code",
   "execution_count": 23,
   "metadata": {},
   "outputs": [
    {
     "ename": "ValueError",
     "evalue": "x and y must have same first dimension, but have shapes (399,) and (299,)",
     "output_type": "error",
     "traceback": [
      "\u001b[0;31m---------------------------------------------------------------------------\u001b[0m",
      "\u001b[0;31mValueError\u001b[0m                                Traceback (most recent call last)",
      "\u001b[0;32m<ipython-input-23-ac39bb44c86b>\u001b[0m in \u001b[0;36m<module>\u001b[0;34m()\u001b[0m\n\u001b[1;32m      2\u001b[0m \u001b[0mu_slow\u001b[0m \u001b[0;34m=\u001b[0m \u001b[0mnp\u001b[0m\u001b[0;34m.\u001b[0m\u001b[0mlinspace\u001b[0m\u001b[0;34m(\u001b[0m\u001b[0;36m1\u001b[0m\u001b[0;34m,\u001b[0m \u001b[0;36m120\u001b[0m \u001b[0;34m-\u001b[0m \u001b[0;36m1\u001b[0m\u001b[0;34m,\u001b[0m \u001b[0;36m120\u001b[0m \u001b[0;34m-\u001b[0m \u001b[0;36m1\u001b[0m\u001b[0;34m)\u001b[0m\u001b[0;34m\u001b[0m\u001b[0m\n\u001b[1;32m      3\u001b[0m \u001b[0;34m\u001b[0m\u001b[0m\n\u001b[0;32m----> 4\u001b[0;31m \u001b[0mplt\u001b[0m\u001b[0;34m.\u001b[0m\u001b[0mloglog\u001b[0m\u001b[0;34m(\u001b[0m\u001b[0mu_fast\u001b[0m\u001b[0;34m,\u001b[0m \u001b[0mnp\u001b[0m\u001b[0;34m.\u001b[0m\u001b[0mlinspace\u001b[0m\u001b[0;34m(\u001b[0m\u001b[0;36m1\u001b[0m\u001b[0;34m,\u001b[0m \u001b[0;36m300\u001b[0m \u001b[0;34m-\u001b[0m \u001b[0;36m1\u001b[0m\u001b[0;34m,\u001b[0m \u001b[0;36m300\u001b[0m \u001b[0;34m-\u001b[0m \u001b[0;36m1\u001b[0m\u001b[0;34m)\u001b[0m\u001b[0;34m,\u001b[0m \u001b[0mlabel\u001b[0m \u001b[0;34m=\u001b[0m \u001b[0;34m\"np.linalg.solve\"\u001b[0m\u001b[0;34m)\u001b[0m\u001b[0;34m\u001b[0m\u001b[0m\n\u001b[0m\u001b[1;32m      5\u001b[0m \u001b[0mplt\u001b[0m\u001b[0;34m.\u001b[0m\u001b[0mloglog\u001b[0m\u001b[0;34m(\u001b[0m\u001b[0mu_slow\u001b[0m\u001b[0;34m,\u001b[0m \u001b[0melapsed_time_c4_s1\u001b[0m\u001b[0;34m,\u001b[0m \u001b[0mlabel\u001b[0m \u001b[0;34m=\u001b[0m \u001b[0;34m\"LDL^T\"\u001b[0m\u001b[0;34m)\u001b[0m\u001b[0;34m\u001b[0m\u001b[0m\n\u001b[1;32m      6\u001b[0m \u001b[0mplt\u001b[0m\u001b[0;34m.\u001b[0m\u001b[0mloglog\u001b[0m\u001b[0;34m(\u001b[0m\u001b[0mu_fast\u001b[0m\u001b[0;34m,\u001b[0m \u001b[0melapsed_time_c4_s2\u001b[0m\u001b[0;34m,\u001b[0m \u001b[0mlabel\u001b[0m \u001b[0;34m=\u001b[0m \u001b[0;34m\"cholesky\"\u001b[0m\u001b[0;34m)\u001b[0m\u001b[0;34m\u001b[0m\u001b[0m\n",
      "\u001b[0;32m~/Programs/anaconda2/envs/py3p6/lib/python3.6/site-packages/matplotlib/pyplot.py\u001b[0m in \u001b[0;36mloglog\u001b[0;34m(*args, **kwargs)\u001b[0m\n\u001b[1;32m   3176\u001b[0m                       mplDeprecation)\n\u001b[1;32m   3177\u001b[0m     \u001b[0;32mtry\u001b[0m\u001b[0;34m:\u001b[0m\u001b[0;34m\u001b[0m\u001b[0m\n\u001b[0;32m-> 3178\u001b[0;31m         \u001b[0mret\u001b[0m \u001b[0;34m=\u001b[0m \u001b[0max\u001b[0m\u001b[0;34m.\u001b[0m\u001b[0mloglog\u001b[0m\u001b[0;34m(\u001b[0m\u001b[0;34m*\u001b[0m\u001b[0margs\u001b[0m\u001b[0;34m,\u001b[0m \u001b[0;34m**\u001b[0m\u001b[0mkwargs\u001b[0m\u001b[0;34m)\u001b[0m\u001b[0;34m\u001b[0m\u001b[0m\n\u001b[0m\u001b[1;32m   3179\u001b[0m     \u001b[0;32mfinally\u001b[0m\u001b[0;34m:\u001b[0m\u001b[0;34m\u001b[0m\u001b[0m\n\u001b[1;32m   3180\u001b[0m         \u001b[0max\u001b[0m\u001b[0;34m.\u001b[0m\u001b[0m_hold\u001b[0m \u001b[0;34m=\u001b[0m \u001b[0mwashold\u001b[0m\u001b[0;34m\u001b[0m\u001b[0m\n",
      "\u001b[0;32m~/Programs/anaconda2/envs/py3p6/lib/python3.6/site-packages/matplotlib/axes/_axes.py\u001b[0m in \u001b[0;36mloglog\u001b[0;34m(self, *args, **kwargs)\u001b[0m\n\u001b[1;32m   1541\u001b[0m         \u001b[0mb\u001b[0m \u001b[0;34m=\u001b[0m \u001b[0mself\u001b[0m\u001b[0;34m.\u001b[0m\u001b[0m_hold\u001b[0m\u001b[0;34m\u001b[0m\u001b[0m\n\u001b[1;32m   1542\u001b[0m         \u001b[0mself\u001b[0m\u001b[0;34m.\u001b[0m\u001b[0m_hold\u001b[0m \u001b[0;34m=\u001b[0m \u001b[0;32mTrue\u001b[0m  \u001b[0;31m# we've already processed the hold\u001b[0m\u001b[0;34m\u001b[0m\u001b[0m\n\u001b[0;32m-> 1543\u001b[0;31m         \u001b[0ml\u001b[0m \u001b[0;34m=\u001b[0m \u001b[0mself\u001b[0m\u001b[0;34m.\u001b[0m\u001b[0mplot\u001b[0m\u001b[0;34m(\u001b[0m\u001b[0;34m*\u001b[0m\u001b[0margs\u001b[0m\u001b[0;34m,\u001b[0m \u001b[0;34m**\u001b[0m\u001b[0mkwargs\u001b[0m\u001b[0;34m)\u001b[0m\u001b[0;34m\u001b[0m\u001b[0m\n\u001b[0m\u001b[1;32m   1544\u001b[0m         \u001b[0mself\u001b[0m\u001b[0;34m.\u001b[0m\u001b[0m_hold\u001b[0m \u001b[0;34m=\u001b[0m \u001b[0mb\u001b[0m  \u001b[0;31m# restore the hold\u001b[0m\u001b[0;34m\u001b[0m\u001b[0m\n\u001b[1;32m   1545\u001b[0m \u001b[0;34m\u001b[0m\u001b[0m\n",
      "\u001b[0;32m~/Programs/anaconda2/envs/py3p6/lib/python3.6/site-packages/matplotlib/__init__.py\u001b[0m in \u001b[0;36minner\u001b[0;34m(ax, *args, **kwargs)\u001b[0m\n\u001b[1;32m   1896\u001b[0m                     warnings.warn(msg % (label_namer, func.__name__),\n\u001b[1;32m   1897\u001b[0m                                   RuntimeWarning, stacklevel=2)\n\u001b[0;32m-> 1898\u001b[0;31m             \u001b[0;32mreturn\u001b[0m \u001b[0mfunc\u001b[0m\u001b[0;34m(\u001b[0m\u001b[0max\u001b[0m\u001b[0;34m,\u001b[0m \u001b[0;34m*\u001b[0m\u001b[0margs\u001b[0m\u001b[0;34m,\u001b[0m \u001b[0;34m**\u001b[0m\u001b[0mkwargs\u001b[0m\u001b[0;34m)\u001b[0m\u001b[0;34m\u001b[0m\u001b[0m\n\u001b[0m\u001b[1;32m   1899\u001b[0m         \u001b[0mpre_doc\u001b[0m \u001b[0;34m=\u001b[0m \u001b[0minner\u001b[0m\u001b[0;34m.\u001b[0m\u001b[0m__doc__\u001b[0m\u001b[0;34m\u001b[0m\u001b[0m\n\u001b[1;32m   1900\u001b[0m         \u001b[0;32mif\u001b[0m \u001b[0mpre_doc\u001b[0m \u001b[0;32mis\u001b[0m \u001b[0;32mNone\u001b[0m\u001b[0;34m:\u001b[0m\u001b[0;34m\u001b[0m\u001b[0m\n",
      "\u001b[0;32m~/Programs/anaconda2/envs/py3p6/lib/python3.6/site-packages/matplotlib/axes/_axes.py\u001b[0m in \u001b[0;36mplot\u001b[0;34m(self, *args, **kwargs)\u001b[0m\n\u001b[1;32m   1404\u001b[0m         \u001b[0mkwargs\u001b[0m \u001b[0;34m=\u001b[0m \u001b[0mcbook\u001b[0m\u001b[0;34m.\u001b[0m\u001b[0mnormalize_kwargs\u001b[0m\u001b[0;34m(\u001b[0m\u001b[0mkwargs\u001b[0m\u001b[0;34m,\u001b[0m \u001b[0m_alias_map\u001b[0m\u001b[0;34m)\u001b[0m\u001b[0;34m\u001b[0m\u001b[0m\n\u001b[1;32m   1405\u001b[0m \u001b[0;34m\u001b[0m\u001b[0m\n\u001b[0;32m-> 1406\u001b[0;31m         \u001b[0;32mfor\u001b[0m \u001b[0mline\u001b[0m \u001b[0;32min\u001b[0m \u001b[0mself\u001b[0m\u001b[0;34m.\u001b[0m\u001b[0m_get_lines\u001b[0m\u001b[0;34m(\u001b[0m\u001b[0;34m*\u001b[0m\u001b[0margs\u001b[0m\u001b[0;34m,\u001b[0m \u001b[0;34m**\u001b[0m\u001b[0mkwargs\u001b[0m\u001b[0;34m)\u001b[0m\u001b[0;34m:\u001b[0m\u001b[0;34m\u001b[0m\u001b[0m\n\u001b[0m\u001b[1;32m   1407\u001b[0m             \u001b[0mself\u001b[0m\u001b[0;34m.\u001b[0m\u001b[0madd_line\u001b[0m\u001b[0;34m(\u001b[0m\u001b[0mline\u001b[0m\u001b[0;34m)\u001b[0m\u001b[0;34m\u001b[0m\u001b[0m\n\u001b[1;32m   1408\u001b[0m             \u001b[0mlines\u001b[0m\u001b[0;34m.\u001b[0m\u001b[0mappend\u001b[0m\u001b[0;34m(\u001b[0m\u001b[0mline\u001b[0m\u001b[0;34m)\u001b[0m\u001b[0;34m\u001b[0m\u001b[0m\n",
      "\u001b[0;32m~/Programs/anaconda2/envs/py3p6/lib/python3.6/site-packages/matplotlib/axes/_base.py\u001b[0m in \u001b[0;36m_grab_next_args\u001b[0;34m(self, *args, **kwargs)\u001b[0m\n\u001b[1;32m    405\u001b[0m                 \u001b[0;32mreturn\u001b[0m\u001b[0;34m\u001b[0m\u001b[0m\n\u001b[1;32m    406\u001b[0m             \u001b[0;32mif\u001b[0m \u001b[0mlen\u001b[0m\u001b[0;34m(\u001b[0m\u001b[0mremaining\u001b[0m\u001b[0;34m)\u001b[0m \u001b[0;34m<=\u001b[0m \u001b[0;36m3\u001b[0m\u001b[0;34m:\u001b[0m\u001b[0;34m\u001b[0m\u001b[0m\n\u001b[0;32m--> 407\u001b[0;31m                 \u001b[0;32mfor\u001b[0m \u001b[0mseg\u001b[0m \u001b[0;32min\u001b[0m \u001b[0mself\u001b[0m\u001b[0;34m.\u001b[0m\u001b[0m_plot_args\u001b[0m\u001b[0;34m(\u001b[0m\u001b[0mremaining\u001b[0m\u001b[0;34m,\u001b[0m \u001b[0mkwargs\u001b[0m\u001b[0;34m)\u001b[0m\u001b[0;34m:\u001b[0m\u001b[0;34m\u001b[0m\u001b[0m\n\u001b[0m\u001b[1;32m    408\u001b[0m                     \u001b[0;32myield\u001b[0m \u001b[0mseg\u001b[0m\u001b[0;34m\u001b[0m\u001b[0m\n\u001b[1;32m    409\u001b[0m                 \u001b[0;32mreturn\u001b[0m\u001b[0;34m\u001b[0m\u001b[0m\n",
      "\u001b[0;32m~/Programs/anaconda2/envs/py3p6/lib/python3.6/site-packages/matplotlib/axes/_base.py\u001b[0m in \u001b[0;36m_plot_args\u001b[0;34m(self, tup, kwargs)\u001b[0m\n\u001b[1;32m    383\u001b[0m             \u001b[0mx\u001b[0m\u001b[0;34m,\u001b[0m \u001b[0my\u001b[0m \u001b[0;34m=\u001b[0m \u001b[0mindex_of\u001b[0m\u001b[0;34m(\u001b[0m\u001b[0mtup\u001b[0m\u001b[0;34m[\u001b[0m\u001b[0;34m-\u001b[0m\u001b[0;36m1\u001b[0m\u001b[0;34m]\u001b[0m\u001b[0;34m)\u001b[0m\u001b[0;34m\u001b[0m\u001b[0m\n\u001b[1;32m    384\u001b[0m \u001b[0;34m\u001b[0m\u001b[0m\n\u001b[0;32m--> 385\u001b[0;31m         \u001b[0mx\u001b[0m\u001b[0;34m,\u001b[0m \u001b[0my\u001b[0m \u001b[0;34m=\u001b[0m \u001b[0mself\u001b[0m\u001b[0;34m.\u001b[0m\u001b[0m_xy_from_xy\u001b[0m\u001b[0;34m(\u001b[0m\u001b[0mx\u001b[0m\u001b[0;34m,\u001b[0m \u001b[0my\u001b[0m\u001b[0;34m)\u001b[0m\u001b[0;34m\u001b[0m\u001b[0m\n\u001b[0m\u001b[1;32m    386\u001b[0m \u001b[0;34m\u001b[0m\u001b[0m\n\u001b[1;32m    387\u001b[0m         \u001b[0;32mif\u001b[0m \u001b[0mself\u001b[0m\u001b[0;34m.\u001b[0m\u001b[0mcommand\u001b[0m \u001b[0;34m==\u001b[0m \u001b[0;34m'plot'\u001b[0m\u001b[0;34m:\u001b[0m\u001b[0;34m\u001b[0m\u001b[0m\n",
      "\u001b[0;32m~/Programs/anaconda2/envs/py3p6/lib/python3.6/site-packages/matplotlib/axes/_base.py\u001b[0m in \u001b[0;36m_xy_from_xy\u001b[0;34m(self, x, y)\u001b[0m\n\u001b[1;32m    242\u001b[0m         \u001b[0;32mif\u001b[0m \u001b[0mx\u001b[0m\u001b[0;34m.\u001b[0m\u001b[0mshape\u001b[0m\u001b[0;34m[\u001b[0m\u001b[0;36m0\u001b[0m\u001b[0;34m]\u001b[0m \u001b[0;34m!=\u001b[0m \u001b[0my\u001b[0m\u001b[0;34m.\u001b[0m\u001b[0mshape\u001b[0m\u001b[0;34m[\u001b[0m\u001b[0;36m0\u001b[0m\u001b[0;34m]\u001b[0m\u001b[0;34m:\u001b[0m\u001b[0;34m\u001b[0m\u001b[0m\n\u001b[1;32m    243\u001b[0m             raise ValueError(\"x and y must have same first dimension, but \"\n\u001b[0;32m--> 244\u001b[0;31m                              \"have shapes {} and {}\".format(x.shape, y.shape))\n\u001b[0m\u001b[1;32m    245\u001b[0m         \u001b[0;32mif\u001b[0m \u001b[0mx\u001b[0m\u001b[0;34m.\u001b[0m\u001b[0mndim\u001b[0m \u001b[0;34m>\u001b[0m \u001b[0;36m2\u001b[0m \u001b[0;32mor\u001b[0m \u001b[0my\u001b[0m\u001b[0;34m.\u001b[0m\u001b[0mndim\u001b[0m \u001b[0;34m>\u001b[0m \u001b[0;36m2\u001b[0m\u001b[0;34m:\u001b[0m\u001b[0;34m\u001b[0m\u001b[0m\n\u001b[1;32m    246\u001b[0m             raise ValueError(\"x and y can be no greater than 2-D, but have \"\n",
      "\u001b[0;31mValueError\u001b[0m: x and y must have same first dimension, but have shapes (399,) and (299,)"
     ]
    },
    {
     "data": {
      "image/png": "[encoded data removed]",
      "text/plain": [
       "<matplotlib.figure.Figure at 0x1143f6860>"
      ]
     },
     "metadata": {},
     "output_type": "display_data"
    }
   ],
   "source": [
    "u_fast = np.linspace(1, 400 - 1, 400 - 1)\n",
    "u_slow = np.linspace(1, 120 - 1, 120 - 1)\n",
    "\n",
    "plt.loglog(u_fast, np.linspace(1, 300 - 1, 300 - 1), label = \"np.linalg.solve\")\n",
    "plt.loglog(u_slow, elapsed_time_c4_s1, label = \"LDL^T\")\n",
    "plt.loglog(u_fast, elapsed_time_c4_s2, label = \"cholesky\")\n",
    "plt.ylim(1e-3, 1e2)\n",
    "plt.xlabel(\"Matrix size\")\n",
    "plt.ylabel(\"Time to converge (s)\")\n",
    "plt.legend()\n",
    "\n",
    "#plt.savefig('./screenshots/summary.png')"
   ]
  },
  {
   "cell_type": "markdown",
   "metadata": {},
   "source": [
    "# C5"
   ]
  },
  {
   "cell_type": "markdown",
   "metadata": {},
   "source": [
    "## optpr1"
   ]
  },
  {
   "cell_type": "code",
   "execution_count": 5,
   "metadata": {},
   "outputs": [
    {
     "name": "stdout",
     "output_type": "stream",
     "text": [
      "C5: first data set optpr1\n",
      "Convergence after  24  iterations!!!\n",
      "The condition number of the matrix is:  8.63897350115e+25\n",
      "The solution f(x) is:  11590.7181194\n",
      "The algorithm needed  0.3847 s to converge\n"
     ]
    }
   ],
   "source": [
    "start = timer()\n",
    "print(\"C5: first data set optpr1\")\n",
    "f1 = lib.solve_general_case(lib.get_new_z, lib.get_M_c6,\n",
    "                            path_ = \"./optpr1/\", n_ = 100, p_ = 50, m_ = 200,\n",
    "                            iter_max_ = 100, eps_ = 1e-16, print_iter_ = False, \n",
    "                            print_conv_ = True)\n",
    "end = timer()\n",
    "print(\"The algorithm needed \", np.round(end-start, 4),\"s to converge\")"
   ]
  },
  {
   "cell_type": "markdown",
   "metadata": {},
   "source": [
    "## optpr2"
   ]
  },
  {
   "cell_type": "code",
   "execution_count": 6,
   "metadata": {},
   "outputs": [
    {
     "name": "stdout",
     "output_type": "stream",
     "text": [
      "C5: second data set optpr2\n",
      "Convergence after  28  iterations!!!\n",
      "The condition number of the matrix is:  2.34789086621e+27\n",
      "The solution f(x) is:  1087511.56732\n",
      "The algorithm needed  167.1845 s to converge\n"
     ]
    }
   ],
   "source": [
    "start = timer()\n",
    "print(\"C5: second data set optpr2\")\n",
    "f2 = lib.solve_general_case(lib.get_new_z, lib.get_M_c6,\n",
    "                            path_ = \"./optpr2/\", n_ = 1000, p_ = 500, m_ = 2000,\n",
    "                            iter_max_ = 100, eps_ = 1e-16, print_iter_ = False,\n",
    "                            print_conv_ = True)\n",
    "end = timer()\n",
    "print(\"The algorithm needed \", np.round(end-start, 4),\"s to converge\")"
   ]
  },
  {
   "cell_type": "markdown",
   "metadata": {},
   "source": [
    "# C6"
   ]
  },
  {
   "cell_type": "code",
   "execution_count": 4,
   "metadata": {},
   "outputs": [
    {
     "name": "stdout",
     "output_type": "stream",
     "text": [
      "iteration:  0\n",
      "r_L:  28.8799091212\n",
      "r_C:  56.0314458623\n",
      "mu:  1.0 \n",
      "\n",
      "iteration:  1\n",
      "r_L:  16.9521884498\n",
      "r_C:  32.889841356\n",
      "mu:  70.8912392769 \n",
      "\n",
      "iteration:  2\n",
      "r_L:  10.5005014218\n",
      "r_C:  20.3725806225\n",
      "mu:  126.205042626 \n",
      "\n",
      "iteration:  3\n",
      "r_L:  10.3917855717\n",
      "r_C:  20.1616552265\n",
      "mu:  104.469954602 \n",
      "\n",
      "iteration:  4\n",
      "r_L:  8.00895627745\n",
      "r_C:  15.5386015306\n",
      "mu:  104.00842507 \n",
      "\n",
      "iteration:  5\n",
      "r_L:  6.40675025832\n",
      "r_C:  12.4300765195\n",
      "mu:  88.1710891655 \n",
      "\n",
      "iteration:  6\n",
      "r_L:  5.70954572266\n",
      "r_C:  11.0773929625\n",
      "mu:  79.4274394263 \n",
      "\n",
      "iteration:  7\n",
      "r_L:  4.85648132332\n",
      "r_C:  9.42231740389\n",
      "mu:  77.2700104705 \n",
      "\n",
      "iteration:  8\n",
      "r_L:  4.38109907424\n",
      "r_C:  8.50000307309\n",
      "mu:  72.8225666051 \n",
      "\n"
     ]
    },
    {
     "ename": "LinAlgError",
     "evalue": "Matrix is not positive definite",
     "output_type": "error",
     "traceback": [
      "\u001b[0;31m---------------------------------------------------------------------------\u001b[0m",
      "\u001b[0;31mLinAlgError\u001b[0m                               Traceback (most recent call last)",
      "\u001b[0;32m<ipython-input-4-1fd7bce803fc>\u001b[0m in \u001b[0;36m<module>\u001b[0;34m()\u001b[0m\n\u001b[1;32m      2\u001b[0m                             \u001b[0mpath_\u001b[0m \u001b[0;34m=\u001b[0m \u001b[0;34m\"./optpr1/\"\u001b[0m\u001b[0;34m,\u001b[0m \u001b[0mn_\u001b[0m \u001b[0;34m=\u001b[0m \u001b[0;36m100\u001b[0m\u001b[0;34m,\u001b[0m \u001b[0mp_\u001b[0m \u001b[0;34m=\u001b[0m \u001b[0;36m50\u001b[0m\u001b[0;34m,\u001b[0m \u001b[0mm_\u001b[0m \u001b[0;34m=\u001b[0m \u001b[0;36m200\u001b[0m\u001b[0;34m,\u001b[0m\u001b[0;34m\u001b[0m\u001b[0m\n\u001b[1;32m      3\u001b[0m                             \u001b[0miter_max_\u001b[0m \u001b[0;34m=\u001b[0m \u001b[0;36m100\u001b[0m\u001b[0;34m,\u001b[0m \u001b[0meps_\u001b[0m \u001b[0;34m=\u001b[0m \u001b[0;36m1e-16\u001b[0m\u001b[0;34m,\u001b[0m \u001b[0mprint_iter_\u001b[0m \u001b[0;34m=\u001b[0m \u001b[0;32mTrue\u001b[0m\u001b[0;34m,\u001b[0m\u001b[0;34m\u001b[0m\u001b[0m\n\u001b[0;32m----> 4\u001b[0;31m                             print_conv_ = True)\n\u001b[0m",
      "\u001b[0;32m~/Dropbox/DataScienceMasterUB/NumerialLinearAlgebra/Project1/Project1_PeterWeber.py\u001b[0m in \u001b[0;36msolve_general_case\u001b[0;34m(fun_get_new_z, fun_get_matrix, path_, n_, p_, m_, iter_max_, eps_, print_iter_, print_conv_)\u001b[0m\n\u001b[1;32m    418\u001b[0m         \u001b[0mz_\u001b[0m \u001b[0;34m=\u001b[0m \u001b[0mresult_\u001b[0m\u001b[0;34m[\u001b[0m\u001b[0;36m0\u001b[0m\u001b[0;34m]\u001b[0m\u001b[0;34m\u001b[0m\u001b[0m\n\u001b[1;32m    419\u001b[0m         \u001b[0mmu_\u001b[0m \u001b[0;34m=\u001b[0m \u001b[0mresult_\u001b[0m\u001b[0;34m[\u001b[0m\u001b[0;36m1\u001b[0m\u001b[0;34m]\u001b[0m\u001b[0;34m\u001b[0m\u001b[0m\n\u001b[0;32m--> 420\u001b[0;31m         \u001b[0mrighthand_\u001b[0m \u001b[0;34m=\u001b[0m \u001b[0mresult_\u001b[0m\u001b[0;34m[\u001b[0m\u001b[0;36m2\u001b[0m\u001b[0;34m]\u001b[0m\u001b[0;34m\u001b[0m\u001b[0m\n\u001b[0m\u001b[1;32m    421\u001b[0m \u001b[0;34m\u001b[0m\u001b[0m\n\u001b[1;32m    422\u001b[0m         \u001b[0mx_\u001b[0m \u001b[0;34m=\u001b[0m \u001b[0mz_\u001b[0m\u001b[0;34m[\u001b[0m\u001b[0;34m:\u001b[0m\u001b[0mn_\u001b[0m\u001b[0;34m]\u001b[0m\u001b[0;34m\u001b[0m\u001b[0m\n",
      "\u001b[0;32m~/Dropbox/DataScienceMasterUB/NumerialLinearAlgebra/Project1/Project1_PeterWeber.py\u001b[0m in \u001b[0;36mget_new_z_c6\u001b[0;34m(x_, gamma_, lambda_, s_, G_, A_, C_, g_, b_, d_, e_)\u001b[0m\n\u001b[1;32m    518\u001b[0m         \u001b[0mLower_\u001b[0m \u001b[0;34m=\u001b[0m \u001b[0mnp\u001b[0m\u001b[0;34m.\u001b[0m\u001b[0mlinalg\u001b[0m\u001b[0;34m.\u001b[0m\u001b[0mcholesky\u001b[0m\u001b[0;34m(\u001b[0m\u001b[0;34m(\u001b[0m\u001b[0mM_c6_\u001b[0m\u001b[0;34m.\u001b[0m\u001b[0mT\u001b[0m\u001b[0;34m)\u001b[0m\u001b[0;34m.\u001b[0m\u001b[0mdot\u001b[0m\u001b[0;34m(\u001b[0m\u001b[0mM_c6_\u001b[0m\u001b[0;34m)\u001b[0m\u001b[0;34m)\u001b[0m\u001b[0;34m\u001b[0m\u001b[0m\n\u001b[1;32m    519\u001b[0m     \u001b[0;32mexcept\u001b[0m\u001b[0;34m:\u001b[0m\u001b[0;34m\u001b[0m\u001b[0m\n\u001b[0;32m--> 520\u001b[0;31m         \u001b[0mprint\u001b[0m\u001b[0;34m(\u001b[0m\u001b[0;34m\"The matrix is not positive definite after i iterations\"\u001b[0m\u001b[0;34m)\u001b[0m\u001b[0;34m\u001b[0m\u001b[0m\n\u001b[0m\u001b[1;32m    521\u001b[0m         \u001b[0;32mreturn\u001b[0m\u001b[0;34m(\u001b[0m\u001b[0mz_\u001b[0m\u001b[0;34m,\u001b[0m \u001b[0mmu_\u001b[0m\u001b[0;34m,\u001b[0m \u001b[0;34m-\u001b[0m\u001b[0mF\u001b[0m\u001b[0;34m(\u001b[0m\u001b[0mx_\u001b[0m\u001b[0;34m,\u001b[0m\u001b[0mgamma_\u001b[0m\u001b[0;34m,\u001b[0m\u001b[0mlambda_\u001b[0m\u001b[0;34m,\u001b[0m\u001b[0ms_\u001b[0m\u001b[0;34m,\u001b[0m \u001b[0mG_\u001b[0m\u001b[0;34m,\u001b[0m \u001b[0mA_\u001b[0m\u001b[0;34m,\u001b[0m \u001b[0mC_\u001b[0m\u001b[0;34m,\u001b[0m \u001b[0mg_\u001b[0m\u001b[0;34m,\u001b[0m \u001b[0mb_\u001b[0m\u001b[0;34m,\u001b[0m \u001b[0md_\u001b[0m\u001b[0;34m)\u001b[0m\u001b[0;34m)\u001b[0m\u001b[0;34m\u001b[0m\u001b[0m\n\u001b[1;32m    522\u001b[0m \u001b[0;34m\u001b[0m\u001b[0m\n",
      "\u001b[0;32m~/Programs/anaconda2/envs/py3p6/lib/python3.6/site-packages/numpy/linalg/linalg.py\u001b[0m in \u001b[0;36mcholesky\u001b[0;34m(a)\u001b[0m\n\u001b[1;32m    597\u001b[0m     \u001b[0mt\u001b[0m\u001b[0;34m,\u001b[0m \u001b[0mresult_t\u001b[0m \u001b[0;34m=\u001b[0m \u001b[0m_commonType\u001b[0m\u001b[0;34m(\u001b[0m\u001b[0ma\u001b[0m\u001b[0;34m)\u001b[0m\u001b[0;34m\u001b[0m\u001b[0m\n\u001b[1;32m    598\u001b[0m     \u001b[0msignature\u001b[0m \u001b[0;34m=\u001b[0m \u001b[0;34m'D->D'\u001b[0m \u001b[0;32mif\u001b[0m \u001b[0misComplexType\u001b[0m\u001b[0;34m(\u001b[0m\u001b[0mt\u001b[0m\u001b[0;34m)\u001b[0m \u001b[0;32melse\u001b[0m \u001b[0;34m'd->d'\u001b[0m\u001b[0;34m\u001b[0m\u001b[0m\n\u001b[0;32m--> 599\u001b[0;31m     \u001b[0mr\u001b[0m \u001b[0;34m=\u001b[0m \u001b[0mgufunc\u001b[0m\u001b[0;34m(\u001b[0m\u001b[0ma\u001b[0m\u001b[0;34m,\u001b[0m \u001b[0msignature\u001b[0m\u001b[0;34m=\u001b[0m\u001b[0msignature\u001b[0m\u001b[0;34m,\u001b[0m \u001b[0mextobj\u001b[0m\u001b[0;34m=\u001b[0m\u001b[0mextobj\u001b[0m\u001b[0;34m)\u001b[0m\u001b[0;34m\u001b[0m\u001b[0m\n\u001b[0m\u001b[1;32m    600\u001b[0m     \u001b[0;32mreturn\u001b[0m \u001b[0mwrap\u001b[0m\u001b[0;34m(\u001b[0m\u001b[0mr\u001b[0m\u001b[0;34m.\u001b[0m\u001b[0mastype\u001b[0m\u001b[0;34m(\u001b[0m\u001b[0mresult_t\u001b[0m\u001b[0;34m,\u001b[0m \u001b[0mcopy\u001b[0m\u001b[0;34m=\u001b[0m\u001b[0;32mFalse\u001b[0m\u001b[0;34m)\u001b[0m\u001b[0;34m)\u001b[0m\u001b[0;34m\u001b[0m\u001b[0m\n\u001b[1;32m    601\u001b[0m \u001b[0;34m\u001b[0m\u001b[0m\n",
      "\u001b[0;32m~/Programs/anaconda2/envs/py3p6/lib/python3.6/site-packages/numpy/linalg/linalg.py\u001b[0m in \u001b[0;36m_raise_linalgerror_nonposdef\u001b[0;34m(err, flag)\u001b[0m\n\u001b[1;32m     91\u001b[0m \u001b[0;34m\u001b[0m\u001b[0m\n\u001b[1;32m     92\u001b[0m \u001b[0;32mdef\u001b[0m \u001b[0m_raise_linalgerror_nonposdef\u001b[0m\u001b[0;34m(\u001b[0m\u001b[0merr\u001b[0m\u001b[0;34m,\u001b[0m \u001b[0mflag\u001b[0m\u001b[0;34m)\u001b[0m\u001b[0;34m:\u001b[0m\u001b[0;34m\u001b[0m\u001b[0m\n\u001b[0;32m---> 93\u001b[0;31m     \u001b[0;32mraise\u001b[0m \u001b[0mLinAlgError\u001b[0m\u001b[0;34m(\u001b[0m\u001b[0;34m\"Matrix is not positive definite\"\u001b[0m\u001b[0;34m)\u001b[0m\u001b[0;34m\u001b[0m\u001b[0m\n\u001b[0m\u001b[1;32m     94\u001b[0m \u001b[0;34m\u001b[0m\u001b[0m\n\u001b[1;32m     95\u001b[0m \u001b[0;32mdef\u001b[0m \u001b[0m_raise_linalgerror_eigenvalues_nonconvergence\u001b[0m\u001b[0;34m(\u001b[0m\u001b[0merr\u001b[0m\u001b[0;34m,\u001b[0m \u001b[0mflag\u001b[0m\u001b[0;34m)\u001b[0m\u001b[0;34m:\u001b[0m\u001b[0;34m\u001b[0m\u001b[0m\n",
      "\u001b[0;31mLinAlgError\u001b[0m: Matrix is not positive definite"
     ]
    }
   ],
   "source": [
    "f3 = lib.solve_general_case(lib.get_new_z_c6, lib.get_M_c6,\n",
    "                            path_ = \"./optpr1/\", n_ = 100, p_ = 50, m_ = 200,\n",
    "                            iter_max_ = 100, eps_ = 1e-16, print_iter_ = True, \n",
    "                            print_conv_ = True)"
   ]
  },
  {
   "cell_type": "code",
   "execution_count": null,
   "metadata": {},
   "outputs": [],
   "source": []
  }
 ],
 "metadata": {
  "anaconda-cloud": {},
  "kernelspec": {
   "display_name": "Python 3",
   "language": "python",
   "name": "python3"
  },
  "language_info": {
   "codemirror_mode": {
    "name": "ipython",
    "version": 3
   },
   "file_extension": ".py",
   "mimetype": "text/x-python",
   "name": "python",
   "nbconvert_exporter": "python",
   "pygments_lexer": "ipython3",
   "version": "3.6.2"
  }
 },
 "nbformat": 4,
 "nbformat_minor": 2
}
